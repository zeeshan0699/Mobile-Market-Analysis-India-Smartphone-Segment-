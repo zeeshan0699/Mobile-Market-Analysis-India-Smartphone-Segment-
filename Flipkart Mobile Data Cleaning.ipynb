{
 "cells": [
  {
   "cell_type": "code",
   "execution_count": 45,
   "id": "e18d1f0c-5632-4512-84a3-f30601225a6b",
   "metadata": {},
   "outputs": [],
   "source": [
    "import pandas as pd\n",
    "import numpy as np\n",
    "import matplotlib.pyplot as plt"
   ]
  },
  {
   "cell_type": "code",
   "execution_count": 47,
   "id": "e630ffd9-3359-4aab-9e6b-ec6ccae8f63f",
   "metadata": {},
   "outputs": [],
   "source": [
    "df = pd.read_csv(\"Flipkart_Mobiles.csv\")"
   ]
  },
  {
   "cell_type": "code",
   "execution_count": 49,
   "id": "2c87705c-b8bf-4f2b-8b2f-5821c9cc2450",
   "metadata": {},
   "outputs": [
    {
     "name": "stdout",
     "output_type": "stream",
     "text": [
      "<class 'pandas.core.frame.DataFrame'>\n",
      "RangeIndex: 3114 entries, 0 to 3113\n",
      "Data columns (total 8 columns):\n",
      " #   Column          Non-Null Count  Dtype  \n",
      "---  ------          --------------  -----  \n",
      " 0   Brand           3114 non-null   object \n",
      " 1   Model           3114 non-null   object \n",
      " 2   Color           3114 non-null   object \n",
      " 3   Memory          3071 non-null   object \n",
      " 4   Storage         3075 non-null   object \n",
      " 5   Rating          2970 non-null   float64\n",
      " 6   Selling Price   3114 non-null   int64  \n",
      " 7   Original Price  3114 non-null   int64  \n",
      "dtypes: float64(1), int64(2), object(5)\n",
      "memory usage: 194.8+ KB\n"
     ]
    }
   ],
   "source": [
    "df.info()"
   ]
  },
  {
   "cell_type": "code",
   "execution_count": 51,
   "id": "4df1be21-cb62-4302-a990-dc77524b982a",
   "metadata": {},
   "outputs": [
    {
     "data": {
      "text/plain": [
       "Brand               0\n",
       "Model               0\n",
       "Color               0\n",
       "Memory             43\n",
       "Storage            39\n",
       "Rating            144\n",
       "Selling Price       0\n",
       "Original Price      0\n",
       "dtype: int64"
      ]
     },
     "execution_count": 51,
     "metadata": {},
     "output_type": "execute_result"
    }
   ],
   "source": [
    "df.isna().sum()"
   ]
  },
  {
   "cell_type": "code",
   "execution_count": 61,
   "id": "9357dfab-233a-4100-b9a3-b73a50e02b92",
   "metadata": {},
   "outputs": [],
   "source": [
    "df['Composite_Key'] =  df['Brand'].fillna('') + '_' + \\\n",
    "                        df['Color'].fillna('') + '_' + \\\n",
    "                        df['Model'].fillna('') + '_' + \\\n",
    "                        df['Memory'].fillna('') + '_' + \\\n",
    "                        df['Original Price'].astype(str).fillna('') + '_' + \\\n",
    "                        df['Selling Price'].astype(str).fillna('')"
   ]
  },
  {
   "cell_type": "code",
   "execution_count": 109,
   "id": "504ea3aa-7557-41cf-a1b5-91d050ca2fe5",
   "metadata": {},
   "outputs": [],
   "source": [
    "df['Composite_Key2'] =  df['Brand'].fillna('') + '_' + \\\n",
    "                        df['Color'].fillna('') + '_' + \\\n",
    "                        df['Model'].fillna('') + '_' + \\\n",
    "                        df['Storage'].fillna('') + '_' + \\\n",
    "                        df['Original Price'].astype(str).fillna('') + '_' + \\\n",
    "                        df['Selling Price'].astype(str).fillna('')"
   ]
  },
  {
   "cell_type": "code",
   "execution_count": 63,
   "id": "3d862791-afa9-4b20-b0e6-55057e5a539f",
   "metadata": {},
   "outputs": [],
   "source": [
    "lookup_dict = df[df['Storage'].notnull()].groupby('Composite_Key')['Storage'].first().to_dict()"
   ]
  },
  {
   "cell_type": "code",
   "execution_count": 111,
   "id": "1b0c178c-88da-4ba4-bdaa-fd16ca27e901",
   "metadata": {},
   "outputs": [],
   "source": [
    "lookup_dict = df[df['Memory'].notnull()].groupby('Composite_Key2')['Memory'].first().to_dict()"
   ]
  },
  {
   "cell_type": "code",
   "execution_count": 65,
   "id": "bf8e1532-dd64-453f-bc9b-cf3fd8e4db91",
   "metadata": {},
   "outputs": [],
   "source": [
    "df['Storage'] = df.apply(lambda row: lookup_dict.get(row['Composite_Key'], row['Storage']) if pd.isnull(row['Storage']) else row['Storage'], axis=1)"
   ]
  },
  {
   "cell_type": "code",
   "execution_count": 113,
   "id": "04025219-c626-45bd-a8a0-d39511f052a9",
   "metadata": {},
   "outputs": [],
   "source": [
    "df['Memory'] = df.apply(lambda row: lookup_dict.get(row['Composite_Key2'], row['Memory']) if pd.isnull(row['Memory']) else row['Memory'], axis=1)"
   ]
  },
  {
   "cell_type": "code",
   "execution_count": 133,
   "id": "0dc0058b-443a-4776-b3fb-ef9c6a802cc1",
   "metadata": {},
   "outputs": [],
   "source": [
    "df.drop(columns=['Composite_Key'], inplace=True)"
   ]
  },
  {
   "cell_type": "code",
   "execution_count": 126,
   "id": "6b99748d-1b52-45e9-805d-23ecb640407c",
   "metadata": {},
   "outputs": [
    {
     "name": "stdout",
     "output_type": "stream",
     "text": [
      "\n",
      "Number of remaining missing values in 'Storage' after lookup:\n",
      "1\n"
     ]
    }
   ],
   "source": [
    "print(\"\\nNumber of remaining missing values in 'Storage' after lookup:\")\n",
    "print(df['Storage'].isnull().sum())"
   ]
  },
  {
   "cell_type": "code",
   "execution_count": 137,
   "id": "3626a713-d4fb-4d25-b4d2-38c6fd74d99f",
   "metadata": {},
   "outputs": [
    {
     "data": {
      "text/plain": [
       "Brand               0\n",
       "Model               0\n",
       "Color               0\n",
       "Memory             40\n",
       "Storage             1\n",
       "Rating            144\n",
       "Selling Price       0\n",
       "Original Price      0\n",
       "dtype: int64"
      ]
     },
     "execution_count": 137,
     "metadata": {},
     "output_type": "execute_result"
    }
   ],
   "source": [
    "df.isna().sum()"
   ]
  },
  {
   "cell_type": "code",
   "execution_count": 139,
   "id": "0faa633f-6e0a-494f-afd1-eabcfe32878e",
   "metadata": {},
   "outputs": [
    {
     "data": {
      "text/html": [
       "<div>\n",
       "<style scoped>\n",
       "    .dataframe tbody tr th:only-of-type {\n",
       "        vertical-align: middle;\n",
       "    }\n",
       "\n",
       "    .dataframe tbody tr th {\n",
       "        vertical-align: top;\n",
       "    }\n",
       "\n",
       "    .dataframe thead th {\n",
       "        text-align: right;\n",
       "    }\n",
       "</style>\n",
       "<table border=\"1\" class=\"dataframe\">\n",
       "  <thead>\n",
       "    <tr style=\"text-align: right;\">\n",
       "      <th></th>\n",
       "      <th>Brand</th>\n",
       "      <th>Model</th>\n",
       "      <th>Color</th>\n",
       "      <th>Memory</th>\n",
       "      <th>Storage</th>\n",
       "      <th>Rating</th>\n",
       "      <th>Selling Price</th>\n",
       "      <th>Original Price</th>\n",
       "    </tr>\n",
       "  </thead>\n",
       "  <tbody>\n",
       "    <tr>\n",
       "      <th>0</th>\n",
       "      <td>OPPO</td>\n",
       "      <td>A53</td>\n",
       "      <td>Moonlight Black</td>\n",
       "      <td>4 GB</td>\n",
       "      <td>64 GB</td>\n",
       "      <td>4.5</td>\n",
       "      <td>11990</td>\n",
       "      <td>15990</td>\n",
       "    </tr>\n",
       "    <tr>\n",
       "      <th>1</th>\n",
       "      <td>OPPO</td>\n",
       "      <td>A53</td>\n",
       "      <td>Mint Cream</td>\n",
       "      <td>4 GB</td>\n",
       "      <td>64 GB</td>\n",
       "      <td>4.5</td>\n",
       "      <td>11990</td>\n",
       "      <td>15990</td>\n",
       "    </tr>\n",
       "    <tr>\n",
       "      <th>2</th>\n",
       "      <td>OPPO</td>\n",
       "      <td>A53</td>\n",
       "      <td>Moonlight Black</td>\n",
       "      <td>6 GB</td>\n",
       "      <td>128 GB</td>\n",
       "      <td>4.3</td>\n",
       "      <td>13990</td>\n",
       "      <td>17990</td>\n",
       "    </tr>\n",
       "    <tr>\n",
       "      <th>3</th>\n",
       "      <td>OPPO</td>\n",
       "      <td>A53</td>\n",
       "      <td>Mint Cream</td>\n",
       "      <td>6 GB</td>\n",
       "      <td>128 GB</td>\n",
       "      <td>4.3</td>\n",
       "      <td>13990</td>\n",
       "      <td>17990</td>\n",
       "    </tr>\n",
       "    <tr>\n",
       "      <th>4</th>\n",
       "      <td>OPPO</td>\n",
       "      <td>A53</td>\n",
       "      <td>Electric Black</td>\n",
       "      <td>4 GB</td>\n",
       "      <td>64 GB</td>\n",
       "      <td>4.5</td>\n",
       "      <td>11990</td>\n",
       "      <td>15990</td>\n",
       "    </tr>\n",
       "  </tbody>\n",
       "</table>\n",
       "</div>"
      ],
      "text/plain": [
       "  Brand Model            Color Memory Storage  Rating  Selling Price  \\\n",
       "0  OPPO   A53  Moonlight Black   4 GB   64 GB     4.5          11990   \n",
       "1  OPPO   A53       Mint Cream   4 GB   64 GB     4.5          11990   \n",
       "2  OPPO   A53  Moonlight Black   6 GB  128 GB     4.3          13990   \n",
       "3  OPPO   A53       Mint Cream   6 GB  128 GB     4.3          13990   \n",
       "4  OPPO   A53   Electric Black   4 GB   64 GB     4.5          11990   \n",
       "\n",
       "   Original Price  \n",
       "0           15990  \n",
       "1           15990  \n",
       "2           17990  \n",
       "3           17990  \n",
       "4           15990  "
      ]
     },
     "execution_count": 139,
     "metadata": {},
     "output_type": "execute_result"
    }
   ],
   "source": [
    "df.head()"
   ]
  },
  {
   "cell_type": "code",
   "execution_count": 141,
   "id": "08bd8c08-bc74-4440-b15e-beaa9b289908",
   "metadata": {},
   "outputs": [],
   "source": [
    " df.to_csv('Flipkart_Mobiles_Updated.csv', index=False)"
   ]
  },
  {
   "cell_type": "code",
   "execution_count": null,
   "id": "c61d9f79-b4a3-4a1b-9de2-0b48a67a03db",
   "metadata": {},
   "outputs": [],
   "source": []
  },
  {
   "cell_type": "code",
   "execution_count": null,
   "id": "4307b8b3-4922-487a-bb15-cbec1e2bb585",
   "metadata": {},
   "outputs": [],
   "source": []
  }
 ],
 "metadata": {
  "kernelspec": {
   "display_name": "Python [conda env:base] *",
   "language": "python",
   "name": "conda-base-py"
  },
  "language_info": {
   "codemirror_mode": {
    "name": "ipython",
    "version": 3
   },
   "file_extension": ".py",
   "mimetype": "text/x-python",
   "name": "python",
   "nbconvert_exporter": "python",
   "pygments_lexer": "ipython3",
   "version": "3.12.7"
  }
 },
 "nbformat": 4,
 "nbformat_minor": 5
}
